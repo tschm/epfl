{
 "cells": [
  {
   "cell_type": "markdown",
   "metadata": {
    "slideshow": {
     "slide_type": "slide"
    }
   },
   "source": [
    "# The Conditional Value at Risk\n",
    "-------------------------------\n",
    "https://en.wikipedia.org/wiki/Expected_shortfall"
   ]
  },
  {
   "cell_type": "code",
   "execution_count": 1,
   "outputs": [
    {
     "ename": "ModuleNotFoundError",
     "evalue": "No module named 'plotly'",
     "output_type": "error",
     "traceback": [
      "\u001B[0;31m---------------------------------------------------------------------------\u001B[0m",
      "\u001B[0;31mModuleNotFoundError\u001B[0m                       Traceback (most recent call last)",
      "Cell \u001B[0;32mIn[1], line 1\u001B[0m\n\u001B[0;32m----> 1\u001B[0m \u001B[38;5;28;01mimport\u001B[39;00m \u001B[38;5;21;01mplotly\u001B[39;00m\n\u001B[1;32m      2\u001B[0m \u001B[38;5;28;01mimport\u001B[39;00m \u001B[38;5;21;01mnumpy\u001B[39;00m \u001B[38;5;28;01mas\u001B[39;00m \u001B[38;5;21;01mnp\u001B[39;00m\n",
      "\u001B[0;31mModuleNotFoundError\u001B[0m: No module named 'plotly'"
     ]
    }
   ],
   "source": [
    "import numpy as np"
   ],
   "metadata": {
    "collapsed": false
   }
  },
  {
   "cell_type": "markdown",
   "metadata": {
    "slideshow": {
     "slide_type": "slide"
    }
   },
   "source": [
    "The $\\alpha=0.99$ tail of a loss distribution \n",
    "-----------------------------------------------\n",
    "<img src=\"talk/tail.jpg\" style=\"margin-left:auto; margin-right:auto; display:block\">"
   ]
  },
  {
   "cell_type": "markdown",
   "metadata": {
    "slideshow": {
     "slide_type": "slide"
    }
   },
   "source": [
    "* In this talk we assume losses are postive. Larger losses, more pain... We want negative losses!\n",
    "\n",
    "* The value at risk $\\mathtt{VaR}_{\\alpha}$ at level $\\alpha$ is (the smallest) loss such that $\\alpha \\%$ of losses are smaller than $\\mathtt{VaR}_{\\alpha}$.\n",
    "\n",
    "* This does not say anything about the magnitude of the losses larger than the $\\mathtt{VaR}_{\\alpha}$. We can only make statements about their number: $n(1 - \\alpha)$\n",
    "\n",
    "* The $\\mathtt{VaR}_{\\alpha}$ has some sever mathematical flaws. It's not sub-additive, it's not convex. It's broken! However, the regulator embraced it."
   ]
  },
  {
   "cell_type": "markdown",
   "metadata": {
    "slideshow": {
     "slide_type": "slide"
    }
   },
   "source": [
    "* We compute the mean of the largest $n(1-\\alpha)$ entries of a vector (or a optimal linear combination of vectors) without ever sorting the entries of any vector. \n",
    "\n",
    "* The resulting convex program is linear.\n",
    "\n",
    "* This mean is called Conditional Value at Risk $\\mathtt{CVaR}_{\\alpha}$ and is an upper bound for the Value at Risk $\\mathtt{VaR}_{\\alpha}$.\n"
   ]
  },
  {
   "cell_type": "markdown",
   "metadata": {
    "slideshow": {
     "slide_type": "slide"
    }
   },
   "source": [
    "Given a vector $\\mathbf{r}$ we introduce a free variable $\\gamma$ and define the function $f$ as:\n",
    "\\begin{eqnarray}\n",
    "f(\\gamma) &=& \\gamma + \\frac{1}{n\\,(1-\\alpha)}\\sum (r_i - \\gamma)^{+}\n",
    "\\end{eqnarray}\n",
    "This is a continuous and convex function (in $\\gamma$). The first derivative is:\n",
    "$$\n",
    "f^{'}(\\gamma) = 1 - \\frac{\\#\\left\\{r_i \\geq \\gamma\\right\\}}{n\\,(1-\\alpha)}\n",
    "$$"
   ]
  },
  {
   "cell_type": "markdown",
   "metadata": {
    "slideshow": {
     "slide_type": "fragment"
    }
   },
   "source": [
    "If $\\gamma$ such that $\\#\\{r_i \\geq \\gamma\\}=n\\,(1-\\alpha)$:\n",
    "- $\\gamma$ is a minimizer of $f$. \n",
    "- $f(\\gamma) =\\mathtt{CVaR}_\\alpha(\\mathbf{r})$.\n",
    "\n",
    "In particular:\n",
    "\n",
    "* $f(\\mathtt{VaR}_\\alpha(\\mathbf{r})) = \\mathtt{CVaR}_\\alpha(\\mathbf{r})$. "
   ]
  },
  {
   "cell_type": "code",
   "execution_count": null,
   "metadata": {
    "slideshow": {
     "slide_type": "slide"
    }
   },
   "outputs": [],
   "source": [
    "def f(gamma, returns, alpha=0.99):\n",
    "    excess = returns - gamma\n",
    "    return gamma + 1.0 / (len(returns) * (1 - alpha)) * excess[excess > 0].sum()\n",
    "\n",
    "# note that cvar = (3+4)/2  and var = ? ... depends on your definition. 2?, 3?, 2.5?\n",
    "r = np.array([-1.0, 2.0, 3.0, 2.0, 4.0, 2.0, 0.0, 1.0, -2.0, -2.0])\n",
    "x = np.linspace(start=-1.0, stop=5.0, num=1000)\n",
    "v = np.array([f(gamma=g, returns=r, alpha=0.80) for g in x])\n",
    "\n",
    "#plt.plot(x, v), plt.grid(True), plt.xlabel('$\\gamma$'), plt.ylabel('$f$')\n",
    "#plt.title('Conditional value at risk as global minimum of a function f')\n",
    "#plt.axis([0, 5, 3, 6])\n",
    "#plt.show()"
   ]
  },
  {
   "cell_type": "markdown",
   "metadata": {
    "slideshow": {
     "slide_type": "slide"
    }
   },
   "source": [
    "Before (using conic reformulation of the $x^+$ function):\n",
    "\n",
    "* \\begin{align}\\mathtt{CVaR}(\\mathbf{r})=\\min_{\\gamma \\in \\mathbb{R}, \\mathbf{t} \\in \\mathbb{R}^n} \\,&\\, \\gamma + \\frac{1}{n\\,(1-\\alpha)}\\sum t_i\\\\\n",
    "\\text{s.t. }&t_i \\geq r_i - \\gamma \\\\\n",
    "            &\\mathbf{t}\\geq 0\n",
    "\\end{align}\n",
    "\n",
    "Now\n",
    "\n",
    "* http://www.cvxpy.org/en/latest/tutorial/functions/, in particular the $x^{+} = \\max\\{0,x\\}$"
   ]
  },
  {
   "cell_type": "code",
   "execution_count": null,
   "metadata": {
    "slideshow": {
     "slide_type": "slide"
    }
   },
   "outputs": [],
   "source": [
    "from cvx.util import minimize, cvx\n",
    "\n",
    "R = [-1.0, 2.0, 3.0, 2.0, 4.0, 2.0, 0.0, 1.0, -2.0, -2.0]\n",
    "\n",
    "n = len(R)\n",
    "# We are interested in CVaR for alpha=0.80, e.g. what's the mean of the 20% of the biggest losses\n",
    "alpha = 0.80\n",
    "\n",
    "# introduce the variable for the var\n",
    "gamma = cvx.Variable(1) \n",
    "cvar = minimize(objective=gamma + 1.0/int(n*(1-alpha)) * cvx.sum(cvx.pos(R - gamma)))\n",
    "\n",
    "print(1.0/(n*(1-alpha)))\n",
    "print(f\"A minimizer of f (<= VaR):  {gamma.value}\")\n",
    "print(f\"Minimum of f (== CVaR):     {cvar}\")\n",
    "\n",
    "x = cvx.sum_largest(R, k=int(n*(1-alpha)))\n",
    "print(x.value)\n"
   ]
  },
  {
   "cell_type": "code",
   "execution_count": null,
   "metadata": {
    "slideshow": {
     "slide_type": "slide"
    }
   },
   "outputs": [],
   "source": [
    "from cvx.util import minimize\n",
    "# take some random return data\n",
    "R = np.random.randn(2500,100)\n",
    "n,m = R.shape\n",
    "\n",
    "# We are interested in CVaR for alpha=0.95, e.g. what's the mean of the 5% of the biggest losses\n",
    "alpha = 0.95\n",
    "\n",
    "gamma, w = (cvx.Variable(1), cvx.Variable(m))\n",
    "obj = gamma + 1.0/(n*(1-alpha)) * cvx.sum(cvx.pos(R @ w - gamma))\n",
    "cvar = minimize(objective=obj, constraints=[0 <= w, cvx.sum(w) == 1])\n",
    "weights = w.value\n",
    "\n",
    "print(f\"CVaR: {cvar}\")\n",
    "\n",
    "cvar2 =  minimize(objective=cvx.sum_largest(R @ w, k=int(n*(1-alpha))))\n",
    "print(f\"CVaR 2: {cvar2}\")\n",
    "\n",
    "#plt.hist(R @ weights, bins=100)\n",
    "#plt.axis([-0.4, 0.4, 0, 150])\n",
    "#plt.title(\"CVaR {0}\".format(cvar))\n",
    "#plt.show()"
   ]
  },
  {
   "cell_type": "markdown",
   "metadata": {
    "slideshow": {
     "slide_type": "slide"
    }
   },
   "source": [
    "Summary\n",
    "-------\n",
    "\n",
    "* We could compute the $\\mathtt{CVaR}$ for a vector of length $n$ by solving a linear program.\n",
    "\n",
    "* We do not need to sort the elements nor do we need to know the Value at Risk $\\mathtt{VaR}$.\n",
    "\n",
    "In practice the vector $\\mathbf{r}$ is not given. Rather we have $m$ assets and try to find a linear combination of their corresponding return vectors such that the resulting portfolio has minimal Conditional Value at Risk.\n"
   ]
  }
 ],
 "metadata": {
  "anaconda-cloud": {},
  "celltoolbar": "Slideshow",
  "kernelspec": {
   "display_name": "Python 3",
   "language": "python",
   "name": "python3"
  },
  "language_info": {
   "codemirror_mode": {
    "name": "ipython",
    "version": 3
   },
   "file_extension": ".py",
   "mimetype": "text/x-python",
   "name": "python",
   "nbconvert_exporter": "python",
   "pygments_lexer": "ipython3",
   "version": "3.7.6"
  },
  "pycharm": {
   "stem_cell": {
    "cell_type": "raw",
    "metadata": {
     "collapsed": false
    },
    "source": []
   }
  },
  "toc": {
   "base_numbering": 1,
   "nav_menu": {},
   "number_sections": false,
   "sideBar": false,
   "skip_h1_title": false,
   "title_cell": "Table of Contents",
   "title_sidebar": "Contents",
   "toc_cell": false,
   "toc_position": {},
   "toc_section_display": false,
   "toc_window_display": false
  }
 },
 "nbformat": 4,
 "nbformat_minor": 4
}
