{
 "cells": [
  {
   "cell_type": "markdown",
   "metadata": {
    "slideshow": {
     "slide_type": "slide"
    }
   },
   "source": [
    "# The Conditional Value at Risk\n",
    "-------------------------------\n",
    "https://en.wikipedia.org/wiki/Expected_shortfall"
   ]
  },
  {
   "cell_type": "code",
   "execution_count": 1,
   "metadata": {
    "collapsed": false,
    "jupyter": {
     "outputs_hidden": false
    }
   },
   "outputs": [],
   "source": [
    "import numpy as np"
   ]
  },
  {
   "cell_type": "markdown",
   "metadata": {
    "slideshow": {
     "slide_type": "slide"
    }
   },
   "source": [
    "The $\\alpha=0.99$ tail of a loss distribution \n",
    "-----------------------------------------------\n",
    "<img src=\"talk/tail.jpg\" style=\"margin-left:auto; margin-right:auto; display:block\">"
   ]
  },
  {
   "cell_type": "markdown",
   "metadata": {
    "slideshow": {
     "slide_type": "slide"
    }
   },
   "source": [
    "* In this talk we assume losses are postive. Larger losses, more pain... We want negative losses!\n",
    "\n",
    "* The value at risk $\\mathtt{VaR}_{\\alpha}$ at level $\\alpha$ is (the smallest) loss such that $\\alpha \\%$ of losses are smaller than $\\mathtt{VaR}_{\\alpha}$.\n",
    "\n",
    "* This does not say anything about the magnitude of the losses larger than the $\\mathtt{VaR}_{\\alpha}$. We can only make statements about their number: $n(1 - \\alpha)$\n",
    "\n",
    "* The $\\mathtt{VaR}_{\\alpha}$ has some sever mathematical flaws. It's not sub-additive, it's not convex. It's broken! However, the regulator embraced it."
   ]
  },
  {
   "cell_type": "markdown",
   "metadata": {
    "slideshow": {
     "slide_type": "slide"
    }
   },
   "source": [
    "* We compute the mean of the largest $n(1-\\alpha)$ entries of a vector (or a optimal linear combination of vectors) without ever sorting the entries of any vector. \n",
    "\n",
    "* The resulting convex program is linear.\n",
    "\n",
    "* This mean is called Conditional Value at Risk $\\mathtt{CVaR}_{\\alpha}$ and is an upper bound for the Value at Risk $\\mathtt{VaR}_{\\alpha}$.\n"
   ]
  },
  {
   "cell_type": "markdown",
   "metadata": {
    "slideshow": {
     "slide_type": "slide"
    }
   },
   "source": [
    "Given a vector $\\mathbf{r}$ we introduce a free variable $\\gamma$ and define the function $f$ as:\n",
    "\\begin{eqnarray}\n",
    "f(\\gamma) &=& \\gamma + \\frac{1}{n\\,(1-\\alpha)}\\sum (r_i - \\gamma)^{+}\n",
    "\\end{eqnarray}\n",
    "This is a continuous and convex function (in $\\gamma$). The first derivative is:\n",
    "$$\n",
    "f^{'}(\\gamma) = 1 - \\frac{\\#\\left\\{r_i \\geq \\gamma\\right\\}}{n\\,(1-\\alpha)}\n",
    "$$"
   ]
  },
  {
   "cell_type": "markdown",
   "metadata": {
    "slideshow": {
     "slide_type": "fragment"
    }
   },
   "source": [
    "If $\\gamma$ such that $\\#\\{r_i \\geq \\gamma\\}=n\\,(1-\\alpha)$:\n",
    "- $\\gamma$ is a minimizer of $f$. \n",
    "- $f(\\gamma) =\\mathtt{CVaR}_\\alpha(\\mathbf{r})$.\n",
    "\n",
    "In particular:\n",
    "\n",
    "* $f(\\mathtt{VaR}_\\alpha(\\mathbf{r})) = \\mathtt{CVaR}_\\alpha(\\mathbf{r})$. "
   ]
  },
  {
   "cell_type": "code",
   "execution_count": 2,
   "metadata": {
    "slideshow": {
     "slide_type": "slide"
    }
   },
   "outputs": [],
   "source": [
    "def f(gamma, returns, alpha=0.99):\n",
    "    excess = returns - gamma\n",
    "    return gamma + 1.0 / (len(returns) * (1 - alpha)) * excess[excess > 0].sum()\n",
    "\n",
    "# note that cvar = (3+4)/2  and var = ? ... depends on your definition. 2?, 3?, 2.5?\n",
    "r = np.array([-1.0, 2.0, 3.0, 2.0, 4.0, 2.0, 0.0, 1.0, -2.0, -2.0])\n",
    "x = np.linspace(start=-1.0, stop=5.0, num=1000)\n",
    "v = np.array([f(gamma=g, returns=r, alpha=0.80) for g in x])\n",
    "\n",
    "#plt.plot(x, v), plt.grid(True), plt.xlabel('$\\gamma$'), plt.ylabel('$f$')\n",
    "#plt.title('Conditional value at risk as global minimum of a function f')\n",
    "#plt.axis([0, 5, 3, 6])\n",
    "#plt.show()"
   ]
  },
  {
   "cell_type": "markdown",
   "metadata": {
    "slideshow": {
     "slide_type": "slide"
    }
   },
   "source": [
    "Before (using conic reformulation of the $x^+$ function):\n",
    "\n",
    "* \\begin{align}\\mathtt{CVaR}(\\mathbf{r})=\\min_{\\gamma \\in \\mathbb{R}, \\mathbf{t} \\in \\mathbb{R}^n} \\,&\\, \\gamma + \\frac{1}{n\\,(1-\\alpha)}\\sum t_i\\\\\n",
    "\\text{s.t. }&t_i \\geq r_i - \\gamma \\\\\n",
    "            &\\mathbf{t}\\geq 0\n",
    "\\end{align}\n",
    "\n",
    "Now\n",
    "\n",
    "* http://www.cvxpy.org/en/latest/tutorial/functions/, in particular the $x^{+} = \\max\\{0,x\\}$"
   ]
  },
  {
   "cell_type": "code",
   "execution_count": 3,
   "metadata": {
    "slideshow": {
     "slide_type": "slide"
    }
   },
   "outputs": [
    {
     "name": "stdout",
     "output_type": "stream",
     "text": [
      "0.5000000000000001\n",
      "A minimizer of f (<= VaR):  [3.13160734]\n",
      "Minimum of f (== CVaR):     4.0\n",
      "4.0\n"
     ]
    }
   ],
   "source": [
    "from cvx.util import minimize, cvx\n",
    "\n",
    "R = [-1.0, 2.0, 3.0, 2.0, 4.0, 2.0, 0.0, 1.0, -2.0, -2.0]\n",
    "\n",
    "n = len(R)\n",
    "# We are interested in CVaR for alpha=0.80, e.g. what's the mean of the 20% of the biggest losses\n",
    "alpha = 0.80\n",
    "\n",
    "# introduce the variable for the var\n",
    "gamma = cvx.Variable(1) \n",
    "cvar = minimize(objective=gamma + 1.0/int(n*(1-alpha)) * cvx.sum(cvx.pos(R - gamma)))\n",
    "\n",
    "print(1.0/(n*(1-alpha)))\n",
    "print(f\"A minimizer of f (<= VaR):  {gamma.value}\")\n",
    "print(f\"Minimum of f (== CVaR):     {cvar}\")\n",
    "\n",
    "x = cvx.sum_largest(R, k=int(n*(1-alpha)))\n",
    "print(x.value)\n"
   ]
  },
  {
   "cell_type": "code",
   "execution_count": 4,
   "metadata": {
    "slideshow": {
     "slide_type": "slide"
    }
   },
   "outputs": [
    {
     "name": "stdout",
     "output_type": "stream",
     "text": [
      "CVaR: 0.18646812121963574\n",
      "CVaR 2: 0.1864681212196243\n"
     ]
    }
   ],
   "source": [
    "from cvx.util import minimize\n",
    "# take some random return data\n",
    "R = np.random.randn(2500,100)\n",
    "n,m = R.shape\n",
    "\n",
    "# We are interested in CVaR for alpha=0.95, e.g. what's the mean of the 5% of the biggest losses\n",
    "alpha = 0.95\n",
    "k = int(n*(1-alpha))\n",
    "\n",
    "gamma, w = (cvx.Variable(1), cvx.Variable(m))\n",
    "constraints = [0 <= w, cvx.sum(w) == 1]\n",
    "\n",
    "obj = cvx.Minimize(gamma + cvx.sum(cvx.pos(R @ w - gamma)) / k)\n",
    "cvar = cvx.Problem(objective=obj, constraints=constraints).solve()\n",
    "print(f\"CVaR: {cvar}\")\n",
    "\n",
    "obj = cvx.Minimize(cvx.sum_largest(R @ w, k=k) / k)\n",
    "cvar2 =  cvx.Problem(objective=obj, constraints=constraints).solve()\n",
    "print(f\"CVaR 2: {cvar2}\")\n",
    "\n",
    "#plt.hist(R @ weights, bins=100)\n",
    "#plt.axis([-0.4, 0.4, 0, 150])\n",
    "#plt.title(\"CVaR {0}\".format(cvar))\n",
    "#plt.show()"
   ]
  },
  {
   "cell_type": "markdown",
   "metadata": {
    "slideshow": {
     "slide_type": "slide"
    }
   },
   "source": [
    "Summary\n",
    "-------\n",
    "\n",
    "* We could compute the $\\mathtt{CVaR}$ for a vector of length $n$ by solving a linear program.\n",
    "\n",
    "* We do not need to sort the elements nor do we need to know the Value at Risk $\\mathtt{VaR}$.\n",
    "\n",
    "In practice the vector $\\mathbf{r}$ is not given. Rather we have $m$ assets and try to find a linear combination of their corresponding return vectors such that the resulting portfolio has minimal Conditional Value at Risk.\n"
   ]
  }
 ],
 "metadata": {
  "anaconda-cloud": {},
  "celltoolbar": "Slideshow",
  "kernelspec": {
   "display_name": "Python 3 (ipykernel)",
   "language": "python",
   "name": "python3"
  },
  "language_info": {
   "codemirror_mode": {
    "name": "ipython",
    "version": 3
   },
   "file_extension": ".py",
   "mimetype": "text/x-python",
   "name": "python",
   "nbconvert_exporter": "python",
   "pygments_lexer": "ipython3",
   "version": "3.11.6"
  },
  "pycharm": {
   "stem_cell": {
    "cell_type": "raw",
    "metadata": {
     "collapsed": false
    },
    "source": []
   }
  },
  "toc": {
   "base_numbering": 1,
   "nav_menu": {},
   "number_sections": false,
   "sideBar": false,
   "skip_h1_title": false,
   "title_cell": "Table of Contents",
   "title_sidebar": "Contents",
   "toc_cell": false,
   "toc_position": {},
   "toc_section_display": false,
   "toc_window_display": false
  }
 },
 "nbformat": 4,
 "nbformat_minor": 4
}
