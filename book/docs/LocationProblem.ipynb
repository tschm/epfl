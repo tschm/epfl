{
 "cells": [
  {
   "cell_type": "code",
   "execution_count": null,
   "metadata": {
    "slideshow": {
     "slide_type": "slide"
    }
   },
   "outputs": [],
   "source": [
    "import matplotlib\n",
    "import matplotlib.pyplot as plt\n",
    "matplotlib.style.use('ggplot')\n",
    "\n",
    "from IPython.core.display import display, HTML\n",
    "display(HTML(\"<style>.container { width:100% !important; }</style>\"))\n",
    "\n",
    "import numpy as np\n",
    "import pandas as pd"
   ]
  },
  {
   "cell_type": "markdown",
   "metadata": {
    "slideshow": {
     "slide_type": "slide"
    }
   },
   "source": [
    "### Location problem\n",
    "\n",
    "We want to find the smallest circle such that $n$ points are all contained in it.\n"
   ]
  },
  {
   "cell_type": "code",
   "execution_count": null,
   "metadata": {
    "slideshow": {
     "slide_type": "slide"
    }
   },
   "outputs": [],
   "source": [
    "# pick a bunch of random points\n",
    "pos = np.random.randn(1000,2)\n",
    "\n",
    "import matplotlib.pyplot as plt\n",
    "plt.scatter(pos[:,0], pos[:,1],s=50,marker=u'x')\n",
    "plt.xlabel('x'), plt.ylabel('y')\n",
    "plt.axis('equal')\n",
    "plt.show()"
   ]
  },
  {
   "cell_type": "code",
   "execution_count": null,
   "metadata": {
    "slideshow": {
     "slide_type": "slide"
    }
   },
   "outputs": [],
   "source": [
    "# solution with cvxpy\n",
    "from cvx.util import cvx, minimize\n",
    "\n",
    "def location(pos):\n",
    "    R,x = cvx.Variable(1), cvx.Variable(2)\n",
    "    minimize(objective=R, constraints = [cvx.norm(row-x,2) <= R for row in pos])\n",
    "    return R.value, x.value\n",
    "\n",
    "print(location(pos))"
   ]
  },
  {
   "cell_type": "code",
   "execution_count": null,
   "metadata": {
    "slideshow": {
     "slide_type": "slide"
    }
   },
   "outputs": [],
   "source": [
    "# pick a bunch of random points\n",
    "pos = np.random.randn(1000,2)\n",
    "\n",
    "plt.scatter(pos[:,0], pos[:,1],s=50,marker=u'x')\n",
    "plt.xlabel('x'), plt.ylabel('y')\n",
    "plt.axis('equal')\n",
    "\n",
    "radius, midpoint = location(pos)\n",
    "\n",
    "import math\n",
    "c=np.array([[radius*np.cos(a)+midpoint[0], radius*np.sin(a)+midpoint[1]] for a in np.linspace(0,2*math.pi,1000)])\n",
    "plt.plot(c[:,0],c[:,1],'r')\n",
    "plt.show()"
   ]
  },
  {
   "cell_type": "markdown",
   "metadata": {
    "slideshow": {
     "slide_type": "slide"
    }
   },
   "source": [
    "# Summary\n",
    "\n",
    "- Each constraint $\\rVert{\\mathbf{x}-\\mathbf{c}}\\lVert_2 < R$ represents a cone. Feasible domain is the intersection of all cones. \n",
    "\n",
    "- It is trivial to generalize (but not to plot) for points in higher dimensional spaces.\n",
    "\n",
    "- However, all of this fails once we can construct multiple circles."
   ]
  }
 ],
 "metadata": {
  "anaconda-cloud": {},
  "celltoolbar": "Slideshow",
  "kernelspec": {
   "display_name": "Python 3",
   "language": "python",
   "name": "python3"
  },
  "language_info": {
   "codemirror_mode": {
    "name": "ipython",
    "version": 3
   },
   "file_extension": ".py",
   "mimetype": "text/x-python",
   "name": "python",
   "nbconvert_exporter": "python",
   "pygments_lexer": "ipython3",
   "version": "3.7.3"
  },
  "toc": {
   "base_numbering": 1,
   "nav_menu": {},
   "number_sections": false,
   "sideBar": false,
   "skip_h1_title": false,
   "title_cell": "Table of Contents",
   "title_sidebar": "Contents",
   "toc_cell": false,
   "toc_position": {},
   "toc_section_display": false,
   "toc_window_display": false
  }
 },
 "nbformat": 4,
 "nbformat_minor": 4
}
