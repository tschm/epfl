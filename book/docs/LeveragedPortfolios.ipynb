{
 "cells": [
  {
   "cell_type": "markdown",
   "metadata": {
    "collapsed": false
   },
   "source": [
    "# Leveraged Portfolios"
   ]
  },
  {
   "cell_type": "code",
   "execution_count": null,
   "metadata": {
    "collapsed": false
   },
   "outputs": [],
   "source": [
    "\n",
    "from IPython.core.display import display, HTML\n",
    "display(HTML(\"<style>.container { width:100% !important; }</style>\"))\n",
    "\n",
    "import numpy as np"
   ]
  },
  {
   "cell_type": "markdown",
   "metadata": {
    "slideshow": {
     "slide_type": "slide"
    }
   },
   "source": [
    "Leveraged Portfolios\n",
    "---------------------\n",
    "https://en.wikipedia.org/wiki/130%E2%80%9330_fund\n",
    "\n",
    "#### Thomas Schmelzer"
   ]
  },
  {
   "cell_type": "markdown",
   "metadata": {
    "slideshow": {
     "slide_type": "slide"
    }
   },
   "source": [
    "### A 130/30 Equity Portfolio\n",
    "\n",
    "- Allocate capital $C=1$. Sell short at most $c = 0.3$ to finance a long position of $1 + c$. \n",
    "- Universe of $n$ assets."
   ]
  },
  {
   "cell_type": "markdown",
   "metadata": {
    "slideshow": {
     "slide_type": "slide"
    }
   },
   "source": [
    "\\begin{align}\\mathbf{x}^{*}=\\arg\\max_{\\mathbf{x} \\in \\mathbb{R}^n}& \\mu^{T}\\mathbf{x}\\\\\n",
    "\\text{s.t. } &\\Sigma\\,x_i=1\\\\\n",
    "             &\\Sigma\\,\\lvert x_i\\rvert \\leq 1 + 2c\\\\\n",
    "             &\\sqrt{\\mathbf{x}^T\\mathbf{C}\\mathbf{x}} \\leq \\sigma_{\\max}\n",
    "\\end{align}"
   ]
  },
  {
   "cell_type": "code",
   "execution_count": null,
   "metadata": {
    "slideshow": {
     "slide_type": "slide"
    }
   },
   "outputs": [],
   "source": [
    "from cvx.util import cvx, maximize\n",
    "\n",
    "# make some random data, e.g. cov-matrix and expected returns\n",
    "n = 100\n",
    "c = 0.9\n",
    "C = c * np.ones((n, n)) + (1 - c) * np.eye(n)\n",
    "mu = 0.05 * np.sin(range(0, n))\n",
    "# maximal volatility and leverage...\n",
    "sigma_max = 1.0\n",
    "excess = 0.3\n",
    "\n",
    "x = cvx.Variable(n)\n",
    "constraints = [cvx.sum(x)==1, cvx.norm(x,1)<=1+2*excess, cvx.quad_form(x,C)<=sigma_max*sigma_max]\n",
    "maximize(objective=x.T*mu, constraints=constraints)\n",
    "f = x.value\n",
    "\n",
    "print(\"Sum of positive weights: {0}\".format(np.sum(f[f > 0])))\n",
    "print(\"Sum of negative weights: {0}\".format(np.sum(f[f < 0])))\n",
    "print(\"Sum of all weights:      {0}\".format(np.sum(f)))"
   ]
  },
  {
   "cell_type": "markdown",
   "metadata": {
    "slideshow": {
     "slide_type": "slide"
    }
   },
   "source": [
    "### Summary\n",
    "\n",
    "- Leverage is here a constraint for the $1$-norm of the weight vector.\n",
    "\n",
    "- Note that we do not solve two problems for the short and long part of the portfolio."
   ]
  },
  {
   "cell_type": "code",
   "execution_count": null,
   "metadata": {},
   "outputs": [],
   "source": []
  }
 ],
 "metadata": {
  "anaconda-cloud": {},
  "celltoolbar": "Slideshow",
  "kernelspec": {
   "display_name": "Python 3",
   "language": "python",
   "name": "python3"
  },
  "language_info": {
   "codemirror_mode": {
    "name": "ipython",
    "version": 3
   },
   "file_extension": ".py",
   "mimetype": "text/x-python",
   "name": "python",
   "nbconvert_exporter": "python",
   "pygments_lexer": "ipython3",
   "version": "3.7.3"
  },
  "toc": {
   "base_numbering": 1,
   "nav_menu": {},
   "number_sections": false,
   "sideBar": false,
   "skip_h1_title": false,
   "title_cell": "Table of Contents",
   "title_sidebar": "Contents",
   "toc_cell": false,
   "toc_position": {},
   "toc_section_display": false,
   "toc_window_display": false
  }
 },
 "nbformat": 4,
 "nbformat_minor": 4
}
