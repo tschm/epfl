{
 "cells": [
  {
   "cell_type": "markdown",
   "metadata": {
    "slideshow": {
     "slide_type": "slide"
    }
   },
   "source": [
    "\n",
    "\n",
    "\n",
    "\n",
    "\n",
    "\n",
    "\n",
    "\n",
    "\n",
    "\n",
    "\n",
    "\n",
    "\n",
    "\n",
    "\n",
    "\n",
    "\n",
    "## Portfolio Optimization, Regression and Conic Programming\n",
    "\n",
    "**Thomas Schmelzer**\n",
    "\n",
    "\n",
    "\n",
    "\n",
    "**Thalesians**, Zurich, November 26"
   ]
  },
  {
   "cell_type": "markdown",
   "metadata": {
    "slideshow": {
     "slide_type": "slide"
    }
   },
   "source": [
    "### Jobs you might be interested in (from LinkedIn):\n",
    "\n",
    "**Quantitative Trader**\n",
    "\n",
    "... - Zurich Area, Switzerland\n",
    "\n",
    "\n",
    "Candidates should possess:\n",
    "\n",
    "- Excellent knowledge in at least one object oriented language e.g. Java, C# or C++\n",
    "- Knowledge of Linux/Unix shells and scripting languages\n",
    "- **Knowledge of optimization solvers (SOCP) and experience with an optimization toolbox e.g. Mosek**\n",
    "- Solid experience in statistical analysis and software (e.g. R)\n",
    "- more wishful thinking...\n"
   ]
  },
  {
   "cell_type": "markdown",
   "metadata": {
    "slideshow": {
     "slide_type": "slide"
    }
   },
   "source": [
    "\n",
    "\n",
    "### Most utterly humble brief personal history within portfolio optimization\n",
    "\n",
    "- 2007: Joined **Winton Capital**. Risk measurement (covariance matrices, volatilities, etc.) and portfolio optimization. Projects with **Raphael Hauser**.\n",
    "\n",
    "- 2008: Started to cooperate with **Mosek** (Danish company providing mathematical software). \n",
    "\n",
    "- 2010: Return to Switzerland via **IMC Zug**.\n",
    "\n",
    "- 2013: Gardening leave at **Maui**. Two publications with Raphael Hauser. \n",
    "\n",
    "- since Feb 2014: Head of Research for **Lobnek Wealth Management** in Geneva."
   ]
  },
  {
   "cell_type": "markdown",
   "metadata": {
    "slideshow": {
     "slide_type": "slide"
    }
   },
   "source": [
    "### Warning\n",
    "\n",
    "Be **careful** when you mention Optimization... the term is just too ambigious."
   ]
  },
  {
   "cell_type": "markdown",
   "metadata": {
    "slideshow": {
     "slide_type": "slide"
    }
   },
   "source": [
    "### Today  \n",
    "\n",
    "- we render problems arising in quantitative finance as conic programs.\n",
    "\n",
    "- we solve such programs using 3rd party software (Mosek).\n",
    "\n",
    "- we illustrate common mistakes made in practice."
   ]
  },
  {
   "cell_type": "markdown",
   "metadata": {
    "slideshow": {
     "slide_type": "slide"
    }
   },
   "source": [
    "### Challenges\n",
    "- underestimated?\n",
    "\n",
    "\n",
    "- modelling (implicit constraints, reverse engineering, politics etc).\n",
    "\n",
    "\n",
    "- complex maths, flexibility to formulate problems\n",
    "\n"
   ]
  },
  {
   "cell_type": "markdown",
   "metadata": {
    "slideshow": {
     "slide_type": "slide"
    }
   },
   "source": [
    "## User feedback\n",
    "\n",
    "- It works!\n",
    "- It's **broken**.\n",
    "- It's **not relevant**. It's all about getting the estimators correct.\n",
    "- Our problems are far too complicated for this. We have developed a **proprietary** method far superior.\n",
    "- Some are rediscovering **familiar concepts**: *(The solvers) overuse statistically estimated information and magnify the impact of estimation errors. It is not simply a matter of garbage in, garbage out, but, rather, a molehill of garbage in, a mountain of garbage out* (Michaud 1998)\n"
   ]
  },
  {
   "cell_type": "markdown",
   "metadata": {
    "slideshow": {
     "slide_type": "slide"
    }
   },
   "source": [
    "## *If the answer is highly sensitive to perturbations, you have probably asked the wrong question.*\n",
    "\n",
    "**Lloyd N. Trefethen**, FRS\n",
    "\n",
    "MAXIMS ABOUT NUMERICAL MATHEMATICS, SCIENCE, COMPUTERS, AND LIFE ON EARTH."
   ]
  },
  {
   "cell_type": "markdown",
   "metadata": {
    "slideshow": {
     "slide_type": "slide"
    }
   },
   "source": [
    "### Literature\n",
    "\n",
    "- Stephen Boyd, Convex Optimization, http://stanford.edu/~boyd/cvxbook/\n",
    "\n",
    "- Mosek Modeling Manual, http://docs.mosek.com/generic/modeling-letter.pdf\n",
    "\n",
    "- Mosek Tutorials, https://github.com/MOSEK/Tutorials\n",
    "\n",
    "- Thomas Schmelzer and Raphael Hauser, Seven Sins in Portfolio Optimization, http://arxiv.org/abs/1310.3396\n",
    "\n",
    "- Thomas Schmelzer et al., Regression techniques for Portfolio Optimization using MOSEK, http://arxiv.org/abs/1310.3397\n",
    "\n",
    "- Gerard Cornuejols, Reha Tutuncu, Optimization Methods in Finance\n",
    "\n",
    "\n",
    "This talk is available online:\n",
    "\n",
    "https://github.com/tschm/thalesians\n",
    "\n",
    "\n",
    "\n",
    "\n",
    "\n"
   ]
  }
 ],
 "metadata": {
  "celltoolbar": "Slideshow",
  "kernelspec": {
   "display_name": "Python 3",
   "language": "python",
   "name": "python3"
  },
  "language_info": {
   "codemirror_mode": {
    "name": "ipython",
    "version": 3
   },
   "file_extension": ".py",
   "mimetype": "text/x-python",
   "name": "python",
   "nbconvert_exporter": "python",
   "pygments_lexer": "ipython3",
   "version": "3.7.3"
  },
  "pycharm": {
   "stem_cell": {
    "cell_type": "raw",
    "metadata": {
     "collapsed": false
    },
    "source": []
   }
  },
  "toc": {
   "base_numbering": 1,
   "nav_menu": {},
   "number_sections": false,
   "sideBar": false,
   "skip_h1_title": false,
   "title_cell": "Table of Contents",
   "title_sidebar": "Contents",
   "toc_cell": false,
   "toc_position": {},
   "toc_section_display": false,
   "toc_window_display": false
  }
 },
 "nbformat": 4,
 "nbformat_minor": 4
}
